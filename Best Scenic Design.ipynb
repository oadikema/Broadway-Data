{
 "cells": [
  {
   "cell_type": "markdown",
   "metadata": {},
   "source": [
    "# Best Scenic Design"
   ]
  },
  {
   "cell_type": "markdown",
   "metadata": {},
   "source": [
    "#### Author: Obuchi Adikema\n",
    "#### Date: June 27, 2019"
   ]
  },
  {
   "cell_type": "markdown",
   "metadata": {
    "colab_type": "text",
    "id": "view-in-github"
   },
   "source": [
    "## Introduction"
   ]
  },
  {
   "cell_type": "markdown",
   "metadata": {},
   "source": [
    "Broadway. \n",
    "\n",
    "The flash, the style, the elegance. Some of the most important people in making Broadway plays and musicals the sensations that they are, are scenic designers. \n",
    "\n",
    "Every year, a Tony Award is presented for Best Scenic Design in a play or musical.\n",
    "Since the first Tony Awards in 1947, each year a Tony Award was presented for Best Scenic Design until the categories changed in 2005. From then on, two awards have been presented: Best Scenic Design in a Play and Best Scenic Design in a Musical. \n",
    "\n",
    "### Who has been awarded and nominated for the most Tony Awards for Best Scenic Design? \n",
    "Who historically, has been the best scenic designer? Or at least who has been awarded and nominated for the most Tony Awards in this category. This analysis will use data from the Internet Broadway Database (IBDB). The database contains information on designers, shows, and awards received from 1947-2004.\n",
    "\n",
    "For this project, I will be building the following table: \n",
    "Designers.csv"
   ]
  },
  {
   "cell_type": "markdown",
   "metadata": {},
   "source": [
    "## Import Primary Packages"
   ]
  },
  {
   "cell_type": "code",
   "execution_count": 1,
   "metadata": {
    "colab": {},
    "colab_type": "code",
    "id": "iTnCohfM9ObW"
   },
   "outputs": [],
   "source": [
    "# Import all necessary packages\n",
    "import lxml.html\n",
    "import pandas as pd\n",
    "import re\n",
    "import requests"
   ]
  },
  {
   "cell_type": "markdown",
   "metadata": {},
   "source": [
    "## To answer my question, I must scrape the data from IBDB."
   ]
  },
  {
   "cell_type": "code",
   "execution_count": 2,
   "metadata": {
    "colab": {},
    "colab_type": "code",
    "id": "Lne1iNHn8YUm"
   },
   "outputs": [],
   "source": [
    "# Request String Found on IBDB\n",
    "data = \"__RequestVerificationToken=IYWa4XVN6rW9Ril9alhCIsQ3cgg1FCl-QGGO6MH6OYwxC0xzddPFruiG_OFdgDpA1YuNjN6IUbs5yF3cP8HutxKctpHF80UfaUlxIs-7pg41&Keyword=&FuncNo=Designer&Gender=&birthstartmonth=01&birthstartday=01&birthstartyear=1950&birthendmonth=01&birthendday=01&birthendyear=1960&birthcity=&BirthState=&deathstartmonth=&deathstartday=&deathstartyear=&deathendmonth=&deathendday=&deathendyear=&deathcity=&DeathState=\""
   ]
  },
  {
   "cell_type": "code",
   "execution_count": 3,
   "metadata": {
    "colab": {
     "base_uri": "https://localhost:8080/",
     "height": 34
    },
    "colab_type": "code",
    "id": "_2kOQO2L9veS",
    "outputId": "51999502-6c41-45c4-d766-2bc06937b80f"
   },
   "outputs": [],
   "source": [
    "data = {\n",
    "    \"FuncNo\": \"Designer\",\n",
    "    \"birthstartmonth\": \"01\",\n",
    "    \"birthstartday\": \"01\",\n",
    "    \"birthstartyear\": \"1800\",\n",
    "    \"birthendmonth\": \"06\",\n",
    "    \"birthendday\": \"06\",\n",
    "    \"birthendyear\": \"2005\"\n",
    "}\n",
    "\n",
    "r = requests.post(\"http://www.ibdb.com/cast-staff\", data=data)"
   ]
  },
  {
   "cell_type": "code",
   "execution_count": 4,
   "metadata": {
    "colab": {
     "base_uri": "https://localhost:8080/",
     "height": 34
    },
    "colab_type": "code",
    "id": "EhBuQCQV-WGM",
    "outputId": "9e1939b7-3603-43b1-970b-2165701479e8"
   },
   "outputs": [],
   "source": [
    "raw_string = lxml.html.fromstring(r.text)"
   ]
  },
  {
   "cell_type": "markdown",
   "metadata": {},
   "source": [
    "Let's try to get the names of all of the designers. We have access to a database of all of the desingers, not just the scenic ones. That's fine because the we will get rid of all of the extra names when we cross reference with the list of Tony scenic design winners. \n",
    "\n",
    "First, we'll get part of the URLs for each designer's page in the database."
   ]
  },
  {
   "cell_type": "code",
   "execution_count": 34,
   "metadata": {
    "colab": {
     "base_uri": "https://localhost:8080/",
     "height": 8211
    },
    "colab_type": "code",
    "id": "_aXr2sC7-bZc",
    "outputId": "1596482c-e88d-481f-b32b-190cbfab33ef"
   },
   "outputs": [
    {
     "name": "stdout",
     "output_type": "stream",
     "text": [
      "A Peak Inside: \n",
      "['/broadway-cast-staff/james-acheson-70969', '/broadway-cast-staff/kevin-adams-25504', '/broadway-cast-staff/adrian-24600', '/broadway-cast-staff/ray-aghayan-24603', '/broadway-cast-staff/christopher-akerlind-25507', '/broadway-cast-staff/theoni-v-aldredge-24606', '/broadway-cast-staff/cris-alexander-69325', '/broadway-cast-staff/ren-allio-24612', '/broadway-cast-staff/ralph-alswang-14031', '/broadway-cast-staff/david-amram-11309']\n"
     ]
    }
   ],
   "source": [
    "path = \"//div[contains(@class, 'person-info')]/div//a/@href\"\n",
    "\n",
    "designers = raw_string.xpath(path)\n",
    "print(\"A Peak Inside: \")\n",
    "print (designers[:10])"
   ]
  },
  {
   "cell_type": "code",
   "execution_count": 6,
   "metadata": {
    "colab": {
     "base_uri": "https://localhost:8080/",
     "height": 8211
    },
    "colab_type": "code",
    "id": "kTBFcWKF2Kqx",
    "outputId": "393ee3e5-149b-42cb-918f-6de8d4ea1f27"
   },
   "outputs": [],
   "source": [
    "# Find the names of the designers\n",
    "designer_names = []\n",
    "\n",
    "def clean_names(list):\n",
    "  new_list = []\n",
    "  for element in list:\n",
    "    step_1 = element.rsplit(\"/\")[2]\n",
    "    step_2 = ''.join([i for i in step_1 if not i.isdigit()]) \n",
    "    step_3 = step_2.replace(\"-\", \" \")\n",
    "    new_list.append(step_3.strip())\n",
    "  return new_list\n",
    "\n",
    "designerNames = clean_names(designers)"
   ]
  },
  {
   "cell_type": "markdown",
   "metadata": {},
   "source": [
    "Let's create a database to store all of these names."
   ]
  },
  {
   "cell_type": "code",
   "execution_count": 7,
   "metadata": {},
   "outputs": [
    {
     "data": {
      "text/html": [
       "<div>\n",
       "<style scoped>\n",
       "    .dataframe tbody tr th:only-of-type {\n",
       "        vertical-align: middle;\n",
       "    }\n",
       "\n",
       "    .dataframe tbody tr th {\n",
       "        vertical-align: top;\n",
       "    }\n",
       "\n",
       "    .dataframe thead th {\n",
       "        text-align: right;\n",
       "    }\n",
       "</style>\n",
       "<table border=\"1\" class=\"dataframe\">\n",
       "  <thead>\n",
       "    <tr style=\"text-align: right;\">\n",
       "      <th></th>\n",
       "      <th>Designer Names</th>\n",
       "    </tr>\n",
       "  </thead>\n",
       "  <tbody>\n",
       "    <tr>\n",
       "      <th>0</th>\n",
       "      <td>james acheson</td>\n",
       "    </tr>\n",
       "    <tr>\n",
       "      <th>1</th>\n",
       "      <td>kevin adams</td>\n",
       "    </tr>\n",
       "    <tr>\n",
       "      <th>2</th>\n",
       "      <td>adrian</td>\n",
       "    </tr>\n",
       "    <tr>\n",
       "      <th>3</th>\n",
       "      <td>ray aghayan</td>\n",
       "    </tr>\n",
       "    <tr>\n",
       "      <th>4</th>\n",
       "      <td>christopher akerlind</td>\n",
       "    </tr>\n",
       "  </tbody>\n",
       "</table>\n",
       "</div>"
      ],
      "text/plain": [
       "         Designer Names\n",
       "0         james acheson\n",
       "1           kevin adams\n",
       "2                adrian\n",
       "3           ray aghayan\n",
       "4  christopher akerlind"
      ]
     },
     "execution_count": 7,
     "metadata": {},
     "output_type": "execute_result"
    }
   ],
   "source": [
    "df1 = pd.DataFrame(designerNames, columns =['Designer Names'])\n",
    "df1.head()"
   ]
  },
  {
   "cell_type": "markdown",
   "metadata": {},
   "source": [
    "Now it would be nice to get all of the plays that each designer has work on."
   ]
  },
  {
   "cell_type": "code",
   "execution_count": 35,
   "metadata": {
    "colab": {
     "base_uri": "https://localhost:8080/",
     "height": 123338
    },
    "colab_type": "code",
    "id": "Gz_2O49aBRIF",
    "outputId": "4a7139e8-8f60-4de3-ed12-990c1d85e97f"
   },
   "outputs": [],
   "source": [
    "path = \"//div[@id='broadway']//a/@href\"\n",
    "plays = []\n",
    "for x in designers:\n",
    "  request_string = \"http://www.ibdb.com\" + x\n",
    "  r2 = requests.get(request_string)\n",
    "  html_tree = lxml.html.fromstring(r2.text)\n",
    "  plays.append(html_tree.xpath(path))"
   ]
  },
  {
   "cell_type": "code",
   "execution_count": 9,
   "metadata": {},
   "outputs": [],
   "source": [
    "def clean_plays(list):\n",
    "    inner_list = []\n",
    "    outer_list = []\n",
    "    for designer_plays in list:\n",
    "        for play in designer_plays:\n",
    "            playNameAlmost = re.match(\"/[\\w\\-\\.]+/(.*)\", play)\n",
    "            playNameAlmost2 = re.sub(\"-\", \" \", playNameAlmost.group(1))\n",
    "            playName = re.match(\"[a-z, \" \"]*\", playNameAlmost2)\n",
    "            inner_list.append(playName.group().strip())\n",
    "        outer_list.append(inner_list)\n",
    "        inner_list = []\n",
    "    return(outer_list)\n",
    "\n",
    "playNames = clean_plays(plays)"
   ]
  },
  {
   "cell_type": "markdown",
   "metadata": {},
   "source": [
    "Let's add the plays that each desinger has done to that database."
   ]
  },
  {
   "cell_type": "code",
   "execution_count": 10,
   "metadata": {},
   "outputs": [
    {
     "data": {
      "text/html": [
       "<div>\n",
       "<style scoped>\n",
       "    .dataframe tbody tr th:only-of-type {\n",
       "        vertical-align: middle;\n",
       "    }\n",
       "\n",
       "    .dataframe tbody tr th {\n",
       "        vertical-align: top;\n",
       "    }\n",
       "\n",
       "    .dataframe thead th {\n",
       "        text-align: right;\n",
       "    }\n",
       "</style>\n",
       "<table border=\"1\" class=\"dataframe\">\n",
       "  <thead>\n",
       "    <tr style=\"text-align: right;\">\n",
       "      <th></th>\n",
       "      <th>Designer Names</th>\n",
       "      <th>Plays</th>\n",
       "    </tr>\n",
       "  </thead>\n",
       "  <tbody>\n",
       "    <tr>\n",
       "      <th>0</th>\n",
       "      <td>james acheson</td>\n",
       "      <td>[hamlet]</td>\n",
       "    </tr>\n",
       "    <tr>\n",
       "      <th>1</th>\n",
       "      <td>kevin adams</td>\n",
       "      <td>[the cher show, head over heels, spongebob squ...</td>\n",
       "    </tr>\n",
       "    <tr>\n",
       "      <th>2</th>\n",
       "      <td>adrian</td>\n",
       "      <td>[camelot, obsession, in bed we cry, slightly s...</td>\n",
       "    </tr>\n",
       "    <tr>\n",
       "      <th>3</th>\n",
       "      <td>ray aghayan</td>\n",
       "      <td>[lorelei, on the town, applause, eddie fisher ...</td>\n",
       "    </tr>\n",
       "    <tr>\n",
       "      <th>4</th>\n",
       "      <td>christopher akerlind</td>\n",
       "      <td>[time and the conways, indecent, waitress, the...</td>\n",
       "    </tr>\n",
       "  </tbody>\n",
       "</table>\n",
       "</div>"
      ],
      "text/plain": [
       "         Designer Names                                              Plays\n",
       "0         james acheson                                           [hamlet]\n",
       "1           kevin adams  [the cher show, head over heels, spongebob squ...\n",
       "2                adrian  [camelot, obsession, in bed we cry, slightly s...\n",
       "3           ray aghayan  [lorelei, on the town, applause, eddie fisher ...\n",
       "4  christopher akerlind  [time and the conways, indecent, waitress, the..."
      ]
     },
     "execution_count": 10,
     "metadata": {},
     "output_type": "execute_result"
    }
   ],
   "source": [
    "df1[\"Plays\"] = playNames\n",
    "df1.head()"
   ]
  },
  {
   "cell_type": "code",
   "execution_count": 11,
   "metadata": {
    "colab": {
     "base_uri": "https://localhost:8080/",
     "height": 8211
    },
    "colab_type": "code",
    "id": "EXcBVzZ9-cRv",
    "outputId": "f67e5d91-7fe0-48fc-a1a1-b99c37f68e9a"
   },
   "outputs": [],
   "source": [
    "# Count the number of plays \n",
    "def count_shows(grid):\n",
    "  count_list = []\n",
    "  for row in grid:\n",
    "    count_list.append(len(row))\n",
    "  return count_list\n",
    "\n",
    "numberOfPlays = count_shows(plays)\n"
   ]
  },
  {
   "cell_type": "code",
   "execution_count": 12,
   "metadata": {},
   "outputs": [
    {
     "data": {
      "text/html": [
       "<div>\n",
       "<style scoped>\n",
       "    .dataframe tbody tr th:only-of-type {\n",
       "        vertical-align: middle;\n",
       "    }\n",
       "\n",
       "    .dataframe tbody tr th {\n",
       "        vertical-align: top;\n",
       "    }\n",
       "\n",
       "    .dataframe thead th {\n",
       "        text-align: right;\n",
       "    }\n",
       "</style>\n",
       "<table border=\"1\" class=\"dataframe\">\n",
       "  <thead>\n",
       "    <tr style=\"text-align: right;\">\n",
       "      <th></th>\n",
       "      <th>Designer Names</th>\n",
       "      <th>Plays</th>\n",
       "      <th>Number of Plays</th>\n",
       "    </tr>\n",
       "  </thead>\n",
       "  <tbody>\n",
       "    <tr>\n",
       "      <th>0</th>\n",
       "      <td>james acheson</td>\n",
       "      <td>[hamlet]</td>\n",
       "      <td>1</td>\n",
       "    </tr>\n",
       "    <tr>\n",
       "      <th>1</th>\n",
       "      <td>kevin adams</td>\n",
       "      <td>[the cher show, head over heels, spongebob squ...</td>\n",
       "      <td>25</td>\n",
       "    </tr>\n",
       "    <tr>\n",
       "      <th>2</th>\n",
       "      <td>adrian</td>\n",
       "      <td>[camelot, obsession, in bed we cry, slightly s...</td>\n",
       "      <td>8</td>\n",
       "    </tr>\n",
       "    <tr>\n",
       "      <th>3</th>\n",
       "      <td>ray aghayan</td>\n",
       "      <td>[lorelei, on the town, applause, eddie fisher ...</td>\n",
       "      <td>6</td>\n",
       "    </tr>\n",
       "    <tr>\n",
       "      <th>4</th>\n",
       "      <td>christopher akerlind</td>\n",
       "      <td>[time and the conways, indecent, waitress, the...</td>\n",
       "      <td>23</td>\n",
       "    </tr>\n",
       "  </tbody>\n",
       "</table>\n",
       "</div>"
      ],
      "text/plain": [
       "         Designer Names                                              Plays  \\\n",
       "0         james acheson                                           [hamlet]   \n",
       "1           kevin adams  [the cher show, head over heels, spongebob squ...   \n",
       "2                adrian  [camelot, obsession, in bed we cry, slightly s...   \n",
       "3           ray aghayan  [lorelei, on the town, applause, eddie fisher ...   \n",
       "4  christopher akerlind  [time and the conways, indecent, waitress, the...   \n",
       "\n",
       "   Number of Plays  \n",
       "0                1  \n",
       "1               25  \n",
       "2                8  \n",
       "3                6  \n",
       "4               23  "
      ]
     },
     "execution_count": 12,
     "metadata": {},
     "output_type": "execute_result"
    }
   ],
   "source": [
    "df1[\"Number of Plays\"] = numberOfPlays\n",
    "df1.head()"
   ]
  },
  {
   "cell_type": "markdown",
   "metadata": {},
   "source": [
    "Now that we have all of the designers, and the plays that they have contributed to, we can check if those designers have had any Tony nods. "
   ]
  },
  {
   "cell_type": "code",
   "execution_count": 13,
   "metadata": {
    "colab": {},
    "colab_type": "code",
    "id": "xGSnFtwZPlr9"
   },
   "outputs": [],
   "source": [
    "award_data = \"__RequestVerificationToken=CmELdELi-0U39OV1eQDJpJhpQUkKXZvq3cewhn-R4sDd5v1-1963vBJ7GrJ3sYrgpIITRnw8nzuFT8LHRvSJ2IvftGWMixu5hWvpdKDzIlw1\""
   ]
  },
  {
   "cell_type": "code",
   "execution_count": 14,
   "metadata": {
    "colab": {
     "base_uri": "https://localhost:8080/",
     "height": 34
    },
    "colab_type": "code",
    "id": "SvXk_-m0B0h-",
    "outputId": "43d3acc1-111a-4783-b6ea-89ad7273a868"
   },
   "outputs": [],
   "source": [
    "award_data_2005 = {\n",
    "    \"AwdAliasNo\": \"1001\",\n",
    "    \"Year\": \"\",\n",
    "    \"AwdCatNo\": \"1017\"\n",
    "}\n",
    "\n",
    "r3 = requests.post(\"http://www.ibdb.com/awards\", data=award_data_2005) "
   ]
  },
  {
   "cell_type": "code",
   "execution_count": 32,
   "metadata": {
    "colab": {
     "base_uri": "https://localhost:8080/",
     "height": 4556
    },
    "colab_type": "code",
    "id": "u6V-w4xoGlB3",
    "outputId": "c05626e2-7842-4ddf-c2ab-264454de80d6"
   },
   "outputs": [
    {
     "name": "stdout",
     "output_type": "stream",
     "text": [
      "A Peak Inside: \n",
      "['eugene lee', 'robert brill', 'tom pye', 'ralph funicello', 'catherine martin', 'john lee beatty', 'david rockwell', 'santo loquasto', 'tim hatley', 'douglas w schmidt']\n"
     ]
    }
   ],
   "source": [
    "# Scenic design Tony winners and nominees up to 2005\n",
    "path = \"//div[contains(string(), 'Winner')]//preceding-sibling::a[contains(@href, 'cast-staff')]/@href\"\n",
    "\n",
    "html_tree2 = lxml.html.fromstring(r3.text)\n",
    "winners_nominees = html_tree2.xpath(path)\n",
    "winnerNomineeNames = clean_names(winners_nominees)\n",
    "print(\"A Peak Inside: \")\n",
    "print (winnerNomineeNames[:10])"
   ]
  },
  {
   "cell_type": "markdown",
   "metadata": {},
   "source": [
    "## Calculate which designers have won Tony's for Best Scenic Design and how many they have won."
   ]
  },
  {
   "cell_type": "code",
   "execution_count": 16,
   "metadata": {},
   "outputs": [],
   "source": [
    "tonyAwardWN = []\n",
    "numberOfAwards = []\n",
    "tony = 0\n",
    "awardCounter = 0\n",
    "\n",
    "for designer in designerNames: \n",
    "    for winner in winnerNomineeNames:\n",
    "        if designer == winner:\n",
    "            tony = 1\n",
    "            awardCounter = awardCounter + 1\n",
    "    tonyAwardWN.append(tony)\n",
    "    numberOfAwards.append(awardCounter)\n",
    "    tony = 0\n",
    "    awardCounter = 0"
   ]
  },
  {
   "cell_type": "code",
   "execution_count": 17,
   "metadata": {},
   "outputs": [
    {
     "data": {
      "text/html": [
       "<div>\n",
       "<style scoped>\n",
       "    .dataframe tbody tr th:only-of-type {\n",
       "        vertical-align: middle;\n",
       "    }\n",
       "\n",
       "    .dataframe tbody tr th {\n",
       "        vertical-align: top;\n",
       "    }\n",
       "\n",
       "    .dataframe thead th {\n",
       "        text-align: right;\n",
       "    }\n",
       "</style>\n",
       "<table border=\"1\" class=\"dataframe\">\n",
       "  <thead>\n",
       "    <tr style=\"text-align: right;\">\n",
       "      <th></th>\n",
       "      <th>Designer Names</th>\n",
       "      <th>Plays</th>\n",
       "      <th>Number of Plays</th>\n",
       "      <th>Tony?</th>\n",
       "      <th>Number of Tony Nominations/Wins</th>\n",
       "    </tr>\n",
       "  </thead>\n",
       "  <tbody>\n",
       "    <tr>\n",
       "      <th>0</th>\n",
       "      <td>james acheson</td>\n",
       "      <td>[hamlet]</td>\n",
       "      <td>1</td>\n",
       "      <td>0</td>\n",
       "      <td>0</td>\n",
       "    </tr>\n",
       "    <tr>\n",
       "      <th>1</th>\n",
       "      <td>kevin adams</td>\n",
       "      <td>[the cher show, head over heels, spongebob squ...</td>\n",
       "      <td>25</td>\n",
       "      <td>0</td>\n",
       "      <td>0</td>\n",
       "    </tr>\n",
       "    <tr>\n",
       "      <th>2</th>\n",
       "      <td>adrian</td>\n",
       "      <td>[camelot, obsession, in bed we cry, slightly s...</td>\n",
       "      <td>8</td>\n",
       "      <td>0</td>\n",
       "      <td>0</td>\n",
       "    </tr>\n",
       "    <tr>\n",
       "      <th>3</th>\n",
       "      <td>ray aghayan</td>\n",
       "      <td>[lorelei, on the town, applause, eddie fisher ...</td>\n",
       "      <td>6</td>\n",
       "      <td>0</td>\n",
       "      <td>0</td>\n",
       "    </tr>\n",
       "    <tr>\n",
       "      <th>4</th>\n",
       "      <td>christopher akerlind</td>\n",
       "      <td>[time and the conways, indecent, waitress, the...</td>\n",
       "      <td>23</td>\n",
       "      <td>0</td>\n",
       "      <td>0</td>\n",
       "    </tr>\n",
       "  </tbody>\n",
       "</table>\n",
       "</div>"
      ],
      "text/plain": [
       "         Designer Names                                              Plays  \\\n",
       "0         james acheson                                           [hamlet]   \n",
       "1           kevin adams  [the cher show, head over heels, spongebob squ...   \n",
       "2                adrian  [camelot, obsession, in bed we cry, slightly s...   \n",
       "3           ray aghayan  [lorelei, on the town, applause, eddie fisher ...   \n",
       "4  christopher akerlind  [time and the conways, indecent, waitress, the...   \n",
       "\n",
       "   Number of Plays  Tony?  Number of Tony Nominations/Wins  \n",
       "0                1      0                                0  \n",
       "1               25      0                                0  \n",
       "2                8      0                                0  \n",
       "3                6      0                                0  \n",
       "4               23      0                                0  "
      ]
     },
     "execution_count": 17,
     "metadata": {},
     "output_type": "execute_result"
    }
   ],
   "source": [
    "df1[\"Tony?\"] = tonyAwardWN\n",
    "df1[\"Number of Tony Nominations/Wins\"] = numberOfAwards\n",
    "df1.head()"
   ]
  },
  {
   "cell_type": "code",
   "execution_count": 18,
   "metadata": {},
   "outputs": [],
   "source": [
    "df1.to_csv(\"Designers.csv\")"
   ]
  },
  {
   "cell_type": "markdown",
   "metadata": {},
   "source": [
    "## Now, let's finally find out which scenic designer has received the most nods and wins from The Tony Awards. "
   ]
  },
  {
   "cell_type": "code",
   "execution_count": 28,
   "metadata": {},
   "outputs": [
    {
     "name": "stdout",
     "output_type": "stream",
     "text": [
      "The designer with the most Tony Awards and nominations is oliver smith with a combination of 23 wins and nominations for Best Scenic Design. They have been credited for work on 138 plays. \n"
     ]
    }
   ],
   "source": [
    "greatestWinner = designerNames[numberOfAwards.index(max(numberOfAwards))]\n",
    "mostAwards = max(numberOfAwards)\n",
    "totalPlays = numberOfPlays[numberOfAwards.index(max(numberOfAwards))]\n",
    "\n",
    "\n",
    "print(\"The designer with the most Tony Awards and nominations is \"+ str(greatestWinner) + \" with a combination of \"\n",
    "     + str(mostAwards) + \" wins and nominations for Best Scenic Design. They have been credited for work on \" \n",
    "      + str(totalPlays) + \" plays. \")\n"
   ]
  },
  {
   "cell_type": "markdown",
   "metadata": {},
   "source": [
    "## References"
   ]
  },
  {
   "cell_type": "markdown",
   "metadata": {},
   "source": [
    "[Internet Broadway Database](http://www.ibdb.com)"
   ]
  }
 ],
 "metadata": {
  "colab": {
   "collapsed_sections": [],
   "include_colab_link": true,
   "name": "broadway-draft.ipynb",
   "provenance": [],
   "version": "0.3.2"
  },
  "kernelspec": {
   "display_name": "Python 3",
   "language": "python",
   "name": "python3"
  },
  "language_info": {
   "codemirror_mode": {
    "name": "ipython",
    "version": 3
   },
   "file_extension": ".py",
   "mimetype": "text/x-python",
   "name": "python",
   "nbconvert_exporter": "python",
   "pygments_lexer": "ipython3",
   "version": "3.7.2"
  }
 },
 "nbformat": 4,
 "nbformat_minor": 1
}
